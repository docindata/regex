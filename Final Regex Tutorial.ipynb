{
  "cells": [
    {
      "cell_type": "markdown",
      "metadata": {
        "id": "XVM7PbYzq1F9"
      },
      "source": [
        "## 1. Regular Expressions (Regex)\n",
        "\n",
        "The following document is my personal notes while learning Regex, it's by no means a comprehensive guide.\n",
        "\n",
        "### 1.1 What is Regex?\n",
        "\n",
        "Regex is a great tool available in similar syntax in quite a few programming languages, it can be used on string to find patterns of text, numeber and other characters. Strings may be found, removed, manipulated, extracted etc\n",
        "\n",
        "### 1.2 How to start Regex in Python?\n",
        "\n",
        "First of all, load the library __re__\n",
        "```python\n",
        "import re\n",
        "```\n",
        "Then use some of its functions on a pre-defined string. \n",
        "\n",
        "### 1.3 The Most Important Functions in the re module\n",
        "\n",
        "\n",
        "1. `re.findall` is the most basic, it runs through all the provided string and looks for the pattern in all of it. Not always optimal if the string is very long and we're looking for one match only.\n",
        "2. `re.match` looks for only one match only in the beginning of the string. Stops after finding one match.\n",
        "3. `re.search` looks for only one match whereever in the string. Stops after finding one match.\n",
        "4. `re.finditer` finds one match then stops, until it is iterated on again. The iteration can be conditional, as stop after 4 finding for example.\n",
        "\n",
        "1. `re.group` is used to access sub-groups within the found pattern. We'll go into groups further on.\n",
        "2. `re.sub` finds and substitutes the found pattern.\n",
        "3. `re.split` splits the string at the place of a specific pattern.\n",
        "\n",
        "### 1.4 The Regex Syntax\n",
        "\n",
        "First of all, Regex has to be written in __raw__ string format.\n",
        "```python\n",
        "r\"regex_body\"\n",
        "```\n",
        "and not as a normal string\n",
        "```python\n",
        "\"regex_body\"\n",
        "```\n",
        "becuase inverted slash `\\` is used alot in regex and non-raw strings are programmed to interact with `\\` in a way that will alter the pattern.\n",
        "\n",
        "Second of all, to leverage the full power of regex, __metacharacters__ are used to look for patterns, see below\n",
        "```python\n",
        "r\"\\w+\\s\\d+\"\n",
        "```\n",
        "which will look for a word made of one or more characters, followed by a singel space and one or more digits.\n",
        "\n",
        "Here is a table on some metacharacter's character classes which are used to find any character or characters of ceratin type.  \n",
        "\n",
        "#### Character classes\n",
        "\n",
        "| Character class | Use |\n",
        "| --- | --- |\n",
        "|. | str contains any, except \\n. This is called wild card |\n",
        "|\\w | str contains 0-9, a-Z and _ |\n",
        "|\\d | str contains digits 0-9 |\n",
        "|\\s | str contains whitespace, even new line |\n",
        "|\\W | str does NOT contain 0-9, a-Z or _ |\n",
        "|\\D | str does NOT contain digits 0-9 |\n",
        "|\\S | str does NOT contain space |  \n",
        "\n",
        "Anchors can be used to make the search more deterministic. ie in the begging of the string.  \n",
        "\n",
        "#### Anchors\n",
        "\n",
        "| Anchors | Use |\n",
        "| --- | --- |\n",
        "|^ | matches begging of str or line |\n",
        "|$ | matches begging of str or line | \n",
        "|\\b | matches begging or end of str. on boundary |\n",
        "|\\A | matches beginning of str |\n",
        "|\\B | matches NOT begging or end of str |\n",
        "|\\Z | matches end of str |\n",
        "\n",
        "Note that searching with character classes returns each match once. To overcome that we can use quantifiers.\n",
        "\n",
        "#### Quantifiers\n",
        "\n",
        "| Quantifier | Use |\n",
        "| --- | --- |\n",
        "| {n} | occurs exactly n times |\n",
        "| {n,} | occurs n times or more |\n",
        "| {m, n} | occurs between m to n times |\n",
        "| + | occurs once or more |\n",
        "| * | occurs zero times or more |\n",
        "| ? | occurs zero times or once |\n",
        "\n",
        "#### Looking for multiple patterns with sets\n",
        "\n",
        "| Set | Use |\n",
        "| --- | --- |\n",
        "| [abc] | looks for a or b or c|   \n",
        "| [^abc] | looks for all but a, b or c (negation if ^ is first) |\n",
        "| [a^bc] | look for a, ^, b or c \n",
        "| [a-b] | looks for all lowercase letters |\n",
        "| [a-zA-Z] | looks for all letters |\n",
        "| [a-zA-Z0-9] | looks for all letters and digits |\n",
        "| [a-z][0-9] | looks for a letter followed by a digit |\n",
        "| [a-z][0-9]+ | looks for a letter followed by one or more digits |\n",
        "| [a-z]{3,}[0-9]+ | looks for at least 3 letters followed by one or more digits |\n",
        "| [a-z][0-9]{2} | looks for i.e. a1b2 |\n",
        "\n",
        "#### Looking for characters that are regex special characters\n",
        "\n",
        "| Syntax | Use |\n",
        "| --- | --- |\n",
        "| [.] | looks for . as a literal |\n",
        "| \\\\. | looks for . as a literal |\n",
        "| note | applies for ?, *, \\ and all special characters |\n",
        "\n",
        "#### Optional matches\n",
        "\n",
        "car and carpet\n",
        "car(pet)?\n",
        "\n",
        "### 1.5 The Regular Expression Engine\n",
        "\n",
        "There are __5 key conecpts__ to understand how the engine behind the scene works. \n",
        "\n",
        "#### 1 _One character at a time_\n",
        "\n",
        "The engine evaluates and decects one matching character at a time. Quantifiers are used to modify this behaviour when not desired.\n",
        "\n",
        "#### 2 _Left to right_\n",
        "\n",
        "The regex engine looks for pattern from left to right, which implies:\n",
        "* When searching for a sun|sunset, the word sun will be looked for throughout the whole string before moving to sunset.\n",
        "* Pattern sun can be found as a delmängd of word sunset in the string, and the string which is matched to the first argument, sun, will not be matched to the second argument, sunset. So it's possible that sunset won't be found even though it is present in the string.\n",
        "\n",
        "This can be solved by looking for the more specific pattern first before moving to the general pattern. \n",
        "\n",
        "Example below"
      ]
    },
    {
      "cell_type": "code",
      "execution_count": null,
      "metadata": {
        "colab": {
          "base_uri": "https://localhost:8080/"
        },
        "id": "L6QXWsSeTSB6",
        "outputId": "55e480ff-1a82-43b3-c6ba-fd4b1f32bffc"
      },
      "outputs": [
        {
          "name": "stdout",
          "output_type": "stream",
          "text": [
            "['sun', 'sun'] \n",
            "\n",
            "note that sunset wasn't found even thought it was looked for\n",
            "\n",
            "So let's try again\n"
          ]
        }
      ],
      "source": [
        "import re\n",
        "string = \"sunset is when the sun is gone\"\n",
        "regex = r\"sun|sunset\"\n",
        "\n",
        "print(re.findall(regex, string), \"\\n\\nnote that sunset wasn't found even thought it was looked for\\n\\nSo let's try again\")"
      ]
    },
    {
      "cell_type": "code",
      "execution_count": null,
      "metadata": {
        "colab": {
          "base_uri": "https://localhost:8080/"
        },
        "id": "fOd4xL3LYzdC",
        "outputId": "a7cddca4-d07d-4d0c-90dd-29a4d346f61c"
      },
      "outputs": [
        {
          "name": "stdout",
          "output_type": "stream",
          "text": [
            "['sunset', 'sun'] \n",
            "\n",
            "Now we found both sun and sunset\n",
            "\n",
            "Let's try a different method\n"
          ]
        }
      ],
      "source": [
        "regex = r\"sunset|sun\"\n",
        "print(re.findall(regex, string), \"\\n\\nNow we found both sun and sunset\\n\\nLet's try a different method\")"
      ]
    },
    {
      "cell_type": "code",
      "execution_count": null,
      "metadata": {
        "colab": {
          "base_uri": "https://localhost:8080/"
        },
        "id": "LgesczvKWBu9",
        "outputId": "067b3cf2-dc9d-4978-c6d8-22aca523d65d"
      },
      "outputs": [
        {
          "name": "stdout",
          "output_type": "stream",
          "text": [
            "['sunset', 'sun'] \n",
            "\n",
            "This worked because we used the anchor boundary \\b\n"
          ]
        }
      ],
      "source": [
        "regex = r\"\\b(sun|sunset)\\b\"\n",
        "print(re.findall(regex, string), \"\\n\\nThis worked because we used the anchor boundary \\\\b\")"
      ]
    },
    {
      "cell_type": "markdown",
      "metadata": {
        "id": "_8bzH0svs7r-"
      },
      "source": [
        "#### 3 _Greedy, lazy and backtracking_\n",
        "\n",
        "When a search is greedy it exhausts the string before stopping. A good analogy is that if you're greedy and driving you'd go all the way until the highway is over and then drive back to look for you exit. If you're lazy you'd just check for your exit each time you see an exit, when you find it you'll drive out and stop looking."
      ]
    },
    {
      "cell_type": "code",
      "execution_count": null,
      "metadata": {
        "colab": {
          "base_uri": "https://localhost:8080/"
        },
        "id": "l3SS49HAs83Z",
        "outputId": "6010e7be-993f-403e-f0b0-c2e148c62a15"
      },
      "outputs": [
        {
          "name": "stdout",
          "output_type": "stream",
          "text": [
            "['algo stop at this dot.? Maybe not.'] \n",
            "\n",
            "The greedy quantifier went too far\n"
          ]
        }
      ],
      "source": [
        "string = \"Will the algo stop at this dot.? Maybe not.\"\n",
        "regex = r\"algo.+\\.\"\n",
        "print(re.findall(regex, string), \"\\n\\nThe greedy quantifier went too far\")"
      ]
    },
    {
      "cell_type": "code",
      "execution_count": null,
      "metadata": {
        "colab": {
          "base_uri": "https://localhost:8080/"
        },
        "id": "MYtbDtnVtEV7",
        "outputId": "267fe57e-e0bd-4fdd-e1d9-aead4605ea0b"
      },
      "outputs": [
        {
          "name": "stdout",
          "output_type": "stream",
          "text": [
            "['algo stop at this dot.'] \n",
            "\n",
            "The lazy quantifier stopped at the first dot, like we wanted\n"
          ]
        }
      ],
      "source": [
        "# Below we'll add ? to the + quantifier to make it lazy\n",
        "regex = r\"algo.+?\\.\"\n",
        "print(re.findall(regex, string),  \"\\n\\nThe lazy quantifier stopped at the first dot, like we wanted\")"
      ]
    },
    {
      "cell_type": "markdown",
      "metadata": {
        "id": "OXZBA0u4zdh9"
      },
      "source": [
        "Let's do another more extensive example where metacharacters are used"
      ]
    },
    {
      "cell_type": "code",
      "execution_count": null,
      "metadata": {
        "colab": {
          "base_uri": "https://localhost:8080/"
        },
        "id": "4Oja0TCzzifN",
        "outputId": "db3c2688-6bbe-4cf9-e128-f2b617c005a7"
      },
      "outputs": [
        {
          "name": "stdout",
          "output_type": "stream",
          "text": [
            "['9'] \n",
            "\n",
            "Quite unexpected, I thought the output would be 789\n"
          ]
        }
      ],
      "source": [
        "string = \"start with 123. end with 789.\"\n",
        "regex = r\".+(\\d+)[.]\"\n",
        "\n",
        "print(re.findall(regex, string), \"\\n\\nQuite unexpected, I thought the output would be 789\")"
      ]
    },
    {
      "cell_type": "markdown",
      "metadata": {
        "id": "ZpkLseI01MpH"
      },
      "source": [
        "Mush be because the greedy wild card caught the digits 78 as part of the wild card call. It went all the way to the end of the string and backtracked one step, release the dot then backtracked one more step. Found 1 digit which satisified the call. Then continued forward again and matched to dot."
      ]
    },
    {
      "cell_type": "code",
      "execution_count": null,
      "metadata": {
        "colab": {
          "base_uri": "https://localhost:8080/"
        },
        "id": "IbDuGmHD1KqS",
        "outputId": "1a3b1efc-1f67-4238-edf0-827710a51469"
      },
      "outputs": [
        {
          "name": "stdout",
          "output_type": "stream",
          "text": [
            "['123', '789'] \n",
            "\n",
            "Worked just like we wished\n"
          ]
        }
      ],
      "source": [
        "regex = r\".+?(\\d+)[.]\"\n",
        "\n",
        "print(re.findall(regex, string), \"\\n\\nWorked just like we wished\")"
      ]
    },
    {
      "cell_type": "markdown",
      "metadata": {
        "id": "eXfIw8CR6Ln2"
      },
      "source": [
        "Another way rather than adjusting the wild card is to look for all non-digits followed by digits by using the negation mark ^ within a set."
      ]
    },
    {
      "cell_type": "code",
      "execution_count": null,
      "metadata": {
        "colab": {
          "base_uri": "https://localhost:8080/"
        },
        "id": "YxI9uxE86KAX",
        "outputId": "db67542c-5a0b-4dd8-d910-f62c79ac952f"
      },
      "outputs": [
        {
          "name": "stdout",
          "output_type": "stream",
          "text": [
            "['123', '789']\n"
          ]
        }
      ],
      "source": [
        "regex = r\"[^\\d]*(\\d+)[.]\"\n",
        "\n",
        "print(re.findall(regex, string))"
      ]
    },
    {
      "cell_type": "markdown",
      "metadata": {
        "id": "cT9y__9M6udA"
      },
      "source": [
        "What if we just want to catch the last digits?"
      ]
    },
    {
      "cell_type": "code",
      "execution_count": null,
      "metadata": {
        "colab": {
          "base_uri": "https://localhost:8080/"
        },
        "id": "EWiXLV7j6rZ5",
        "outputId": "232b74fd-2970-4875-e6f2-36a17ecaedf7"
      },
      "outputs": [
        {
          "name": "stdout",
          "output_type": "stream",
          "text": [
            "['789']\n"
          ]
        }
      ],
      "source": [
        "regex = r\"[^\\d]*(\\d+)[.]$\"\n",
        "\n",
        "print(re.findall(regex, string))"
      ]
    },
    {
      "cell_type": "code",
      "execution_count": null,
      "metadata": {
        "colab": {
          "base_uri": "https://localhost:8080/"
        },
        "id": "Pc5OAs_N3qwS",
        "outputId": "5b18a884-7777-4943-d0c5-4fda09402f51"
      },
      "outputs": [
        {
          "data": {
            "text/plain": [
              "[('shining', 'ing'), ('shine', 'e'), ('down', '')]"
            ]
          },
          "execution_count": 54,
          "metadata": {},
          "output_type": "execute_result"
        }
      ],
      "source": [
        "string = \"sunshining at sunshine, and shunny at sundown\"\n",
        "\n",
        "regex = r\"\\bsun(shin(ing|e)|down)\\b\"\n",
        "\n",
        "re.findall(regex, string)"
      ]
    },
    {
      "cell_type": "code",
      "execution_count": 14,
      "metadata": {
        "colab": {
          "base_uri": "https://localhost:8080/"
        },
        "id": "UZ9CtN_741sV",
        "outputId": "bd30aea2-58f1-4b89-dcbf-d7e8d81f77d2"
      },
      "outputs": [
        {
          "data": {
            "text/plain": [
              "[('applepaste', 'paste', 'e'),\n",
              " ('applepastry', 'pastry', 'ry'),\n",
              " ('applepie', 'pie', '')]"
            ]
          },
          "execution_count": 14,
          "metadata": {},
          "output_type": "execute_result"
        }
      ],
      "source": [
        "string = \"twenty popular recipes to make applepaste at the applepastry that sells applepie\"\n",
        "\n",
        "regex = r\"\\b(apple(past(ry|e)|pie))\\b\"\n",
        "\n",
        "re.findall(regex, string)"
      ]
    },
    {
      "cell_type": "markdown",
      "metadata": {
        "id": "CxlYfVrQtK-s"
      },
      "source": [
        "#### 4 _Groups_\n",
        "\n",
        "A group is any part of the pattern specified inside a paranthesis `()`. You can break up text into subpatterns, selectively extract/capture what you want withing a bigger pattern. Groups can be accessed with backreference through an automatically designated index or with names.\n",
        "Below is a table with some group-related code.\n",
        "Naming the groups is safer as indexes will change if you add something to the pattern later.\n",
        "\n",
        "|Regex|Use|\n",
        "|---|---|\n",
        "|(exp)|Creates an capturing indexed group|\n",
        "|(?:exp)|Non-capturing group|\n",
        "|?P< name >exp|Creates a named group|\n",
        "|(?P=name)|Refer to a group by name|\n",
        "|\\n|Refer to a group by number|\n",
        "|\\g< name >|Replaces the named group|\n"
      ]
    },
    {
      "cell_type": "code",
      "execution_count": 7,
      "metadata": {},
      "outputs": [],
      "source": [
        "string = \"2022-06-20\"\n",
        "regex = r\"(?P<year>\\b\\d{4})-(?P<month>\\d{2})-(?P<day>\\d{2})\"\n",
        "date = re.findall(regex, string)"
      ]
    },
    {
      "cell_type": "code",
      "execution_count": 13,
      "metadata": {},
      "outputs": [
        {
          "name": "stdout",
          "output_type": "stream",
          "text": [
            "['words']\n"
          ]
        }
      ],
      "source": [
        "string = \"Are there any duplicated words words?\"\n",
        "# regex that finds duplicated word by index number\n",
        "regex = r\"(\\b\\w+\\b)\\s+\\1\"\n",
        "\n",
        "print(re.findall(regex, string))"
      ]
    },
    {
      "cell_type": "markdown",
      "metadata": {},
      "source": [
        "Now the same just using named groups instead of numbered."
      ]
    },
    {
      "cell_type": "code",
      "execution_count": 17,
      "metadata": {},
      "outputs": [
        {
          "name": "stdout",
          "output_type": "stream",
          "text": [
            "['words']\n"
          ]
        }
      ],
      "source": [
        "# regex that finds the duplicated word and names it word\n",
        "regex = r\"(?P<word>\\w+)\\s+(?P=word)\"\n",
        "\n",
        "print(re.findall(regex, string))"
      ]
    },
    {
      "cell_type": "markdown",
      "metadata": {},
      "source": [
        "The one below deletes the duplicated word."
      ]
    },
    {
      "cell_type": "code",
      "execution_count": 18,
      "metadata": {},
      "outputs": [
        {
          "data": {
            "text/plain": [
              "'Are there any duplicated words'"
            ]
          },
          "execution_count": 18,
          "metadata": {},
          "output_type": "execute_result"
        }
      ],
      "source": [
        "re.sub(regex, r\"\\g<word>\", string)"
      ]
    },
    {
      "cell_type": "markdown",
      "metadata": {},
      "source": [
        "### 1.6 Final Words\n",
        "\n",
        "I hope this has been helpful to any reader."
      ]
    }
  ],
  "metadata": {
    "colab": {
      "collapsed_sections": [],
      "name": "Regex tutorial.ipynb",
      "provenance": []
    },
    "gpuClass": "standard",
    "kernelspec": {
      "display_name": "Python 3.9.7 ('base')",
      "language": "python",
      "name": "python3"
    },
    "language_info": {
      "codemirror_mode": {
        "name": "ipython",
        "version": 3
      },
      "file_extension": ".py",
      "mimetype": "text/x-python",
      "name": "python",
      "nbconvert_exporter": "python",
      "pygments_lexer": "ipython3",
      "version": "3.9.7"
    },
    "orig_nbformat": 4,
    "vscode": {
      "interpreter": {
        "hash": "40d3a090f54c6569ab1632332b64b2c03c39dcf918b08424e98f38b5ae0af88f"
      }
    }
  },
  "nbformat": 4,
  "nbformat_minor": 0
}
