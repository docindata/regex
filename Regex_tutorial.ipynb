{
  "cells": [
    {
      "cell_type": "markdown",
      "metadata": {
        "id": "view-in-github",
        "colab_type": "text"
      },
      "source": [
        "<a href=\"https://colab.research.google.com/github/docindata/regex/blob/main/Regex_tutorial.ipynb\" target=\"_parent\"><img src=\"https://colab.research.google.com/assets/colab-badge.svg\" alt=\"Open In Colab\"/></a>"
      ]
    },
    {
      "cell_type": "markdown",
      "metadata": {
        "id": "XVM7PbYzq1F9"
      },
      "source": [
        "## 1. Regular Expressions (Regex)\n",
        "\n",
        "### 1.1 What is Regex?\n",
        "\n",
        "Regex is a great tool available in similar syntax in quite a few programming languages, it can be used on string to find patterns of text, numeber and other characters. Strings may be found, removed, manipulated, extracted etc\n",
        "\n",
        "### 1.2 How to start Regex in Python?\n",
        "\n",
        "First of all, load the library __re__\n",
        "```python\n",
        "import re\n",
        "```\n",
        "Then use some of its functions on a pre-defined string. \n",
        "\n",
        "### 1.3 The Most Important Functions in re\n",
        "\n",
        "\n",
        "1. `re.findall` is the most basic, it runs through all the provided string and looks for the pattern in all of it. Not always optimal if the string is very long and we're looking for one match only.\n",
        "2. `re.match` looks for only one match only in the beginning of the string. Stops after finding one match.\n",
        "3. `re.search` looks for only one match whereever in the string. Stops after finding one match.\n",
        "4. `re.finditer` finds one match then stops, until it is iterated on again. The iteration can be conditional, as stop after 4 finding for example.\n",
        "\n",
        "1. `re.group` is used to access sub-groups within the found pattern. We'll go into groups further on.\n",
        "2. `re.sub` finds and substitutes the found pattern.\n",
        "3. `re.split` splits the string at the place of a specific pattern.\n",
        "\n",
        "### 1.4 The Regex Syntax\n",
        "\n",
        "First of all, Regex has to be written in __raw__ string format.\n",
        "```python\n",
        "r\"regex_body\"\n",
        "```\n",
        "and not as a normal string\n",
        "```python\n",
        "\"regex_body\"\n",
        "```\n",
        "becuase inverted slash `\\` is used alot in regex and non-raw strings are programmed to interact with `\\` in a way that will alter the pattern.\n",
        "\n",
        "Second of all, to leverage the full power of regex, __metacharacters__ are used to look for patterns, see below\n",
        "```python\n",
        "r\"\\w+\\s\\d+\"\n",
        "```\n",
        "which will look for a word made of one or more characters, followed by a singel space and one or more digits.\n",
        "\n",
        "Here is a table on some metacharacter's character classes which are used to find any character or characters of ceratin type.  \n",
        "\n",
        "#### Character classes\n",
        "\n",
        "| Character class | Use |\n",
        "| --- | --- |\n",
        "|. | str contains any, except \\n. This is called wild card |\n",
        "|\\w | str contains 0-9, a-Z and _ |\n",
        "|\\d | str contains digits 0-9 |\n",
        "|\\s | str contains whitespace, even new line |\n",
        "|\\W | str does NOT contain 0-9, a-Z or _ |\n",
        "|\\D | str does NOT contain digits 0-9 |\n",
        "|\\S | str does NOT contain space |  \n",
        "\n",
        "Anchors can be used to make the search more deterministic. ie in the begging of the string.  \n",
        "\n",
        "#### Anchors\n",
        "\n",
        "| Anchors | Use |\n",
        "| --- | --- |\n",
        "|^ | matches begging of str or line |\n",
        "|$ | matches begging of str or line | \n",
        "|\\b | matches begging or end of str. on boundary |\n",
        "|\\A | matches beginning of str |\n",
        "|\\B | matches NOT begging or end of str |\n",
        "|\\Z | matches end of str |\n",
        "\n",
        "Note that searching with character classes returns each match once. To overcome that we can use quantifiers.\n",
        "\n",
        "#### Quantifiers\n",
        "\n",
        "| Quantifier | Use |\n",
        "| --- | --- |\n",
        "| {n} | occurs exactly n times |\n",
        "| {n,} | occurs n times or more |\n",
        "| {m, n} | occurs between m to n times |\n",
        "| + | occurs once or more |\n",
        "| * | occurs zero times or more |\n",
        "| ? | occurs zero times or once |\n",
        "\n",
        "#### Looking for multiple patterns with sets\n",
        "\n",
        "| Set | Use |\n",
        "| --- | --- |\n",
        "| [abc] | looks for a or b or c|   \n",
        "| [^abc] | looks for all but a, b or c (negation if ^ is first) |\n",
        "| [a^bc] | look for a, ^, b or c \n",
        "| [a-b] | looks for all lowercase letters |\n",
        "| [a-zA-Z] | looks for all letters |\n",
        "| [a-zA-Z0-9] | looks for all letters and digits |\n",
        "| [a-z][0-9] | looks for a letter followed by a digit |\n",
        "| [a-z][0-9]+ | looks for a letter followed by one or more digits |\n",
        "| [a-z]{3,}[0-9]+ | looks for at least 3 letters followed by one or more digits |\n",
        "| [a-z][0-9]{2} | looks for i.e. a1b2 |\n",
        "\n",
        "#### Looking for characters that are regex special characters\n",
        "\n",
        "| Syntax | Use |\n",
        "| --- | --- |\n",
        "| [.] | looks for . as a literal |\n",
        "| \\\\. | looks for . as a literal |\n",
        "| note | applies for ?, *, \\ and all special characters |\n",
        "\n",
        "#### Optional matches\n",
        "\n",
        "car and carpet\n",
        "car(pet)?\n",
        "\n",
        "### 1.5 The Regular Expression Engine\n",
        "\n",
        "There are __5 key conecpts__ to understand how the engine behind the scene works. \n",
        "\n",
        "1. _One character at a time_: The engine evaluates and decects one matching character at a time. Quantifiers are used to modify this behaviour. \n",
        "2. _Left to right_: Specify boundary using \\bword\\b or query specific and THEN general.\n",
        "3. _Greedy, lazy and backtracking_: \n",
        "4. _Groups_\n",
        "5. _Look ahead and look behind_\n",
        "\n",
        "6. __Extra!__ _What is matched once is not queried again_\n"
      ]
    },
    {
      "cell_type": "code",
      "source": [
        "import re \n",
        "string = \"aaaaa\"\n",
        "regex = r\"aa\"\n",
        "re.findall(regex, string)"
      ],
      "metadata": {
        "colab": {
          "base_uri": "https://localhost:8080/"
        },
        "id": "L6QXWsSeTSB6",
        "outputId": "7c4b740e-77d1-42cd-b31a-99ac93ca3eb6"
      },
      "execution_count": null,
      "outputs": [
        {
          "output_type": "execute_result",
          "data": {
            "text/plain": [
              "['aa', 'aa']"
            ]
          },
          "metadata": {},
          "execution_count": 1
        }
      ]
    },
    {
      "cell_type": "code",
      "source": [
        "string = \"carpet and car\"\n",
        "regex = r\"car|carpet\"\n",
        "\n",
        "re.findall(regex, string)"
      ],
      "metadata": {
        "id": "fOd4xL3LYzdC"
      },
      "execution_count": null,
      "outputs": []
    },
    {
      "cell_type": "code",
      "source": [
        "string = \"carpet and car\"\n",
        "regex = r\"\\b(car|carpet)\\b\"\n",
        "\n",
        "re.findall(regex, string)"
      ],
      "metadata": {
        "colab": {
          "base_uri": "https://localhost:8080/"
        },
        "id": "LgesczvKWBu9",
        "outputId": "e0ea6193-000d-44cb-d449-1dbd06eff806"
      },
      "execution_count": null,
      "outputs": [
        {
          "output_type": "execute_result",
          "data": {
            "text/plain": [
              "['carpet', 'car']"
            ]
          },
          "metadata": {},
          "execution_count": 5
        }
      ]
    },
    {
      "cell_type": "code",
      "source": [
        "string = \"carpet and car\"\n",
        "regex = r\"carpet|car\"\n",
        "\n",
        "re.findall(regex, string)"
      ],
      "metadata": {
        "colab": {
          "base_uri": "https://localhost:8080/"
        },
        "id": "Ja3eaE17YYyn",
        "outputId": "426a961e-620f-4fbe-b59b-388974c22a80"
      },
      "execution_count": null,
      "outputs": [
        {
          "output_type": "execute_result",
          "data": {
            "text/plain": [
              "['carpet', 'car']"
            ]
          },
          "metadata": {},
          "execution_count": 6
        }
      ]
    }
  ],
  "metadata": {
    "colab": {
      "name": "Regex tutorial.ipynb",
      "provenance": [],
      "collapsed_sections": [],
      "include_colab_link": true
    },
    "gpuClass": "standard",
    "kernelspec": {
      "display_name": "Python 3.9.7 ('base')",
      "language": "python",
      "name": "python3"
    },
    "language_info": {
      "name": "python",
      "version": "3.9.7"
    },
    "orig_nbformat": 4,
    "vscode": {
      "interpreter": {
        "hash": "40d3a090f54c6569ab1632332b64b2c03c39dcf918b08424e98f38b5ae0af88f"
      }
    }
  },
  "nbformat": 4,
  "nbformat_minor": 0
}